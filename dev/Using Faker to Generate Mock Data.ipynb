{
 "cells": [
  {
   "cell_type": "markdown",
   "id": "3bf2adbb",
   "metadata": {},
   "source": [
    "# Use Faker to Generate Common Data <a class=\"tocSkip\">\n",
    "\n",
    "https://faker.readthedocs.io/en/master/index.html"
   ]
  },
  {
   "cell_type": "code",
   "execution_count": 39,
   "id": "231499b5",
   "metadata": {},
   "outputs": [
    {
     "name": "stdout",
     "output_type": "stream",
     "text": [
      "Requirement already satisfied: faker in c:\\users\\qinjie\\anaconda3\\lib\\site-packages (8.12.0)\n",
      "Requirement already satisfied: python-dateutil>=2.4 in c:\\users\\qinjie\\anaconda3\\lib\\site-packages (from faker) (2.8.1)\n",
      "Requirement already satisfied: text-unidecode==1.3 in c:\\users\\qinjie\\anaconda3\\lib\\site-packages (from faker) (1.3)\n",
      "Requirement already satisfied: six>=1.5 in c:\\users\\qinjie\\anaconda3\\lib\\site-packages (from python-dateutil>=2.4->faker) (1.15.0)\n"
     ]
    }
   ],
   "source": [
    "!pip install faker"
   ]
  },
  {
   "cell_type": "code",
   "execution_count": 40,
   "id": "b8f2f95a",
   "metadata": {},
   "outputs": [
    {
     "name": "stdout",
     "output_type": "stream",
     "text": [
      "faker 8.12.0\n"
     ]
    }
   ],
   "source": [
    "!faker --version"
   ]
  },
  {
   "cell_type": "markdown",
   "id": "ad150c96",
   "metadata": {},
   "source": [
    "## Dynamic Way to Call Function with Parameters"
   ]
  },
  {
   "cell_type": "code",
   "execution_count": 1,
   "id": "7eba0159",
   "metadata": {},
   "outputs": [],
   "source": [
    "from faker import Faker\n",
    "\n",
    "fake = Faker()"
   ]
  },
  {
   "cell_type": "markdown",
   "id": "d03232b2",
   "metadata": {},
   "source": [
    "Load function parameters from JSON object"
   ]
  },
  {
   "cell_type": "code",
   "execution_count": 57,
   "id": "ccc77e14",
   "metadata": {},
   "outputs": [
    {
     "data": {
      "text/plain": [
       "{'start_date': '-30y', 'end_date': 'today'}"
      ]
     },
     "execution_count": 57,
     "metadata": {},
     "output_type": "execute_result"
    }
   ],
   "source": [
    "import json\n",
    "param = {\"start_date\":'-30y', \"end_date\":'today'}\n",
    "param_str = json.dumps(param)\n",
    "param_str\n",
    "param_dict = json.loads(param_str)\n",
    "param_dict"
   ]
  },
  {
   "cell_type": "markdown",
   "id": "b99fe678",
   "metadata": {},
   "source": [
    "Use function name to call a function."
   ]
  },
  {
   "cell_type": "code",
   "execution_count": 80,
   "id": "e0594f1a",
   "metadata": {},
   "outputs": [
    {
     "data": {
      "text/plain": [
       "'1993-02-15'"
      ]
     },
     "execution_count": 80,
     "metadata": {},
     "output_type": "execute_result"
    }
   ],
   "source": [
    "# Name of the function\n",
    "func_name = 'date_between'\n",
    "\n",
    "# Make sure object has the function \n",
    "if not hasattr(fake, func_name):\n",
    "    raise Exception(f'Invalid attribute name {func_name} for object {fake}')\n",
    "\n",
    "method_to_call = getattr(fake, func_name)\n",
    "# Make sure the attribute is callable\n",
    "if not callable(method_to_call):\n",
    "    raise Exception(f'Invalid function {method_to_call} for object {fake}')\n",
    "\n",
    "result = method_to_call(**param_dict)\n",
    "result.strftime('%Y-%m-%d')"
   ]
  },
  {
   "cell_type": "markdown",
   "id": "7aa16d11",
   "metadata": {},
   "source": [
    "### List all Methods of an Object"
   ]
  },
  {
   "cell_type": "code",
   "execution_count": 81,
   "id": "a1611e7d",
   "metadata": {},
   "outputs": [],
   "source": [
    "from inspect import signature"
   ]
  },
  {
   "cell_type": "code",
   "execution_count": 98,
   "id": "bf170a16",
   "metadata": {},
   "outputs": [],
   "source": [
    "sig = signature(fake.date_between)"
   ]
  },
  {
   "cell_type": "code",
   "execution_count": 104,
   "id": "f6685e63",
   "metadata": {},
   "outputs": [
    {
     "data": {
      "text/plain": [
       "mappingproxy({'start_date': <Parameter \"start_date='-30y'\">,\n",
       "              'end_date': <Parameter \"end_date='today'\">})"
      ]
     },
     "execution_count": 104,
     "metadata": {},
     "output_type": "execute_result"
    }
   ],
   "source": [
    "sig.parameters"
   ]
  },
  {
   "cell_type": "code",
   "execution_count": 115,
   "id": "f4a6cb0a",
   "metadata": {
    "scrolled": true
   },
   "outputs": [
    {
     "data": {
      "text/plain": [
       "[('start_date', '-30y'), ('end_date', 'today')]"
      ]
     },
     "execution_count": 115,
     "metadata": {},
     "output_type": "execute_result"
    }
   ],
   "source": [
    "[(v.name, v.default) for k,v in sig.parameters.items()]"
   ]
  },
  {
   "cell_type": "code",
   "execution_count": 95,
   "id": "4ba2050c",
   "metadata": {},
   "outputs": [],
   "source": [
    "sig.from_function()"
   ]
  },
  {
   "cell_type": "markdown",
   "id": "a57e6bfc",
   "metadata": {},
   "source": [
    "## Basic Faker Functions"
   ]
  },
  {
   "cell_type": "code",
   "execution_count": 33,
   "id": "f3bdad69",
   "metadata": {},
   "outputs": [],
   "source": [
    "from faker import Faker"
   ]
  },
  {
   "cell_type": "code",
   "execution_count": 20,
   "id": "12524dd9",
   "metadata": {},
   "outputs": [
    {
     "name": "stdout",
     "output_type": "stream",
     "text": [
      "Spencer Strickland\n",
      "1997-07-26\n",
      "Moccasin\n"
     ]
    }
   ],
   "source": [
    "# initialize a generator\n",
    "fake = Faker()\n",
    "#create some fake data\n",
    "print(fake.name())\n",
    "print(fake.date_between(start_date='-30y', end_date='today'))\n",
    "print(fake.color_name())"
   ]
  },
  {
   "cell_type": "code",
   "execution_count": 21,
   "id": "79bf4f9f",
   "metadata": {
    "scrolled": true
   },
   "outputs": [
    {
     "data": {
      "text/plain": [
       "{'job': 'Educational psychologist',\n",
       " 'company': 'Hart Ltd',\n",
       " 'ssn': '127-40-2824',\n",
       " 'residence': '58029 Alejandro Crescent Apt. 145\\nCarolside, NM 56860',\n",
       " 'current_location': (Decimal('86.164442'), Decimal('-63.944189')),\n",
       " 'blood_group': 'O-',\n",
       " 'website': ['https://craig.com/'],\n",
       " 'username': 'kallen',\n",
       " 'name': 'William Anderson',\n",
       " 'sex': 'M',\n",
       " 'address': '36533 Bell Island\\nReginaland, AK 44147',\n",
       " 'mail': 'reeveskelly@gmail.com',\n",
       " 'birthdate': datetime.date(1963, 11, 1)}"
      ]
     },
     "execution_count": 21,
     "metadata": {},
     "output_type": "execute_result"
    }
   ],
   "source": [
    "fake.profile()"
   ]
  },
  {
   "cell_type": "code",
   "execution_count": 22,
   "id": "c3896918",
   "metadata": {},
   "outputs": [
    {
     "data": {
      "text/plain": [
       "['DimGray', 'LightSkyBlue', 'Bisque', 'DarkGray']"
      ]
     },
     "execution_count": 22,
     "metadata": {},
     "output_type": "execute_result"
    }
   ],
   "source": [
    "[fake.color_name() for x in range(4)]"
   ]
  },
  {
   "cell_type": "markdown",
   "id": "5068e840",
   "metadata": {},
   "source": [
    "Use Faker to create objects with different attributes"
   ]
  },
  {
   "cell_type": "code",
   "execution_count": 25,
   "id": "117e0673",
   "metadata": {},
   "outputs": [
    {
     "data": {
      "text/plain": [
       "[{'Worker Name': 'Krystal James', 'Hire Date': datetime.date(2001, 6, 17)},\n",
       " {'Worker Name': 'James Parrish', 'Hire Date': datetime.date(2001, 9, 12)},\n",
       " {'Worker Name': 'Amanda Stein', 'Hire Date': datetime.date(2021, 7, 28)},\n",
       " {'Worker Name': 'John Riggs', 'Hire Date': datetime.date(1994, 4, 8)},\n",
       " {'Worker Name': 'Julia Lewis', 'Hire Date': datetime.date(1994, 3, 18)}]"
      ]
     },
     "execution_count": 25,
     "metadata": {},
     "output_type": "execute_result"
    }
   ],
   "source": [
    "fake_workers = [\n",
    "    {'Worker Name':fake.name(), \n",
    "     'Hire Date':fake.date_between(start_date='-30y', end_date='today')\n",
    "    } for x in range(5)]\n",
    "                 \n",
    "fake_workers"
   ]
  },
  {
   "cell_type": "markdown",
   "id": "84932e9f",
   "metadata": {},
   "source": [
    "### Random Generation of Data with Various Probability\n",
    "\n",
    "Use `numpy.random.choice()` for sampling of data with different frequencies.\n"
   ]
  },
  {
   "cell_type": "code",
   "execution_count": 27,
   "id": "018f7276",
   "metadata": {},
   "outputs": [],
   "source": [
    "import numpy as np"
   ]
  },
  {
   "cell_type": "code",
   "execution_count": 29,
   "id": "f0967c24",
   "metadata": {},
   "outputs": [],
   "source": [
    "colors = [fake.color_name() for x in range(4)]"
   ]
  },
  {
   "cell_type": "markdown",
   "id": "3479cb51",
   "metadata": {},
   "source": [
    "Randomly select items from `colors` with different probability for each of the 4 items."
   ]
  },
  {
   "cell_type": "code",
   "execution_count": 30,
   "id": "9596d9f1",
   "metadata": {
    "scrolled": true
   },
   "outputs": [
    {
     "data": {
      "text/plain": [
       "['Lavender',\n",
       " 'Lavender',\n",
       " 'LightBlue',\n",
       " 'LightBlue',\n",
       " 'Lavender',\n",
       " 'DarkCyan',\n",
       " 'DarkCyan',\n",
       " 'LightBlue',\n",
       " 'Lavender',\n",
       " 'Lavender']"
      ]
     },
     "execution_count": 30,
     "metadata": {},
     "output_type": "execute_result"
    }
   ],
   "source": [
    "[np.random.choice(colors, p=[0.1, 0.6, 0.1, 0.2]) for x in range(10)]"
   ]
  },
  {
   "cell_type": "code",
   "execution_count": null,
   "id": "ef2f3dc7",
   "metadata": {},
   "outputs": [],
   "source": []
  },
  {
   "cell_type": "markdown",
   "id": "3428ce49",
   "metadata": {},
   "source": [
    "## Community Provider - SG NRIC\n",
    "\n",
    "\n",
    "https://en.wikipedia.org/wiki/National_Registration_Identity_Card"
   ]
  },
  {
   "cell_type": "markdown",
   "id": "77f5cc8a",
   "metadata": {},
   "source": [
    "### Provider"
   ]
  },
  {
   "cell_type": "code",
   "execution_count": 97,
   "id": "c3ff7582",
   "metadata": {},
   "outputs": [],
   "source": [
    "from faker.providers import BaseProvider\n",
    "from faker import Faker\n",
    "from datetime import datetime\n",
    "from dateutil.relativedelta import relativedelta\n",
    "\n",
    "\n",
    "class SgNricProvider(BaseProvider):\n",
    "    \"\"\"\n",
    "    A Faker provider for Singapore NRIC (National Registration Identity Card) Number\n",
    "    \"\"\"\n",
    "\n",
    "    def __init__(self, generator):\n",
    "        super().__init__(generator)\n",
    "        self.fake = Faker()\n",
    "    \n",
    "    \n",
    "    @staticmethod\n",
    "    def first_characters():\n",
    "        \"\"\"\n",
    "        Return list of possible first character.        \n",
    "        \"\"\"\n",
    "        return {\n",
    "            \"S\": \"Singapore citizens and permanent residents born before 1 January 2000.\",\n",
    "            \"T\": \"Singapore citizens and permanent residents born on or after 1 January 2000\",\n",
    "            \"F\": \"Foreigners issued with long-term passes before 1 January 2000\", \n",
    "            \"G\": \"Foreigners issued with long-term passes from 1 January 2000 to 31 December 2021\",\n",
    "            \"M\": \"Foreigners issued with long-term passes on or after 1 January 2022\"\n",
    "        }\n",
    "            \n",
    "    @classmethod\n",
    "    def checksum(cls, nric: str)->str:\n",
    "        \"\"\"\n",
    "        Generate checksum from 7 digits\n",
    "        \"\"\"\n",
    "        LETTERS = {\n",
    "         1: 'A', 2: 'B', 3: 'C', 4: 'D', 5: 'E',\n",
    "         6: 'F', 7: 'G', 8: 'H', 9: 'I', 10: 'Z', 11: 'J'\n",
    "        }\n",
    "        if len(nric) != 7 or (not nric.isdigit()):\n",
    "            raise Exception('NRIC must be 7 digits')\n",
    "\n",
    "        s = list(nric)\n",
    "        weights = [2, 7, 6, 5, 4, 3, 2]\n",
    "        sum = 0\n",
    "        for i in range(len(weights)):\n",
    "            sum = sum + int(s[i]) * weights[i]\n",
    "            r = sum % 11\n",
    "            c = 11 - r\n",
    "        return LETTERS[c]\n",
    "\n",
    "    \n",
    "    def sg_nric_type_s(self, min_age=None, max_age=115):\n",
    "        \"\"\"\n",
    "        \"S\": \"Singapore citizens and permanent residents born before 1 January 2000.\",\n",
    "        Singapore citizens and permanent residents born on or after 1 January 1968 are issued NRIC numbers starting with their year of birth.\n",
    "        For Singapore citizens and permanent residents born on or before 31 December 1967, the NRIC numbers commonly begin with 0 or 1.\n",
    "        Non-native residents born before 1968 are assigned the heading numbers 2 or 3 upon attaining permanent residency or citizenship.\n",
    "        \"\"\"\n",
    "        # Get birthday between \n",
    "        end_date = datetime(1999, 12, 31)\n",
    "        current = datetime.today()\n",
    "        difference = relativedelta(current, end_date)\n",
    "        \n",
    "        if not min_age:\n",
    "            min_age = difference.years        \n",
    "        elif min_age and (min_age < difference.years):\n",
    "            print(f'Minimum age for S type NRIC is {difference.years}.')\n",
    "            min_age = difference.years\n",
    "        \n",
    "        if min_age > max_age:\n",
    "            return None\n",
    "\n",
    "        birthday = self.fake.date_of_birth(tzinfo=None, minimum_age=min_age, maximum_age=max_age)\n",
    "\n",
    "        nric = f'{datetime.strftime(birthday,\"%y\")}#####'\n",
    "        nric = self.fake.numerify(nric)\n",
    "        \n",
    "        if birthday < datetime(1967, 12, 31).date():\n",
    "            nric = self.fake.random_element(elements=('0', '1', '2', '3')) + nric[1:]\n",
    "        checksum = self.checksum(nric)\n",
    "        nric_full = 'S'+nric+checksum\n",
    "        return {'birthday': datetime.strftime(birthday, '%Y-%m-%d'), \"nric\": nric_full}\n",
    "        \n",
    "    \n",
    "    def sg_nric_type_t(self, min_age=None, max_age=None):\n",
    "        \"\"\"\n",
    "        \"T\": \"Singapore citizens and permanent residents born on or after 1 January 2000\",\n",
    "        \"\"\"\n",
    "        start_date = datetime(2000,1,1)\n",
    "        current = datetime.today()\n",
    "        difference = relativedelta(current, start_date)\n",
    "        \n",
    "        if not min_age or (min_age < 0):\n",
    "            min_age = 0\n",
    "        \n",
    "        if not max_age:\n",
    "            max_age = difference.years\n",
    "        elif max_age and (max_age > difference.years):\n",
    "            print(f'Maximum age for T type NRIC is {difference.years}.')\n",
    "            max_age = difference.years\n",
    "\n",
    "        if min_age > max_age:\n",
    "            return None\n",
    "        \n",
    "        birthday = self.fake.date_of_birth(tzinfo=None, minimum_age=min_age, maximum_age=max_age)\n",
    "\n",
    "        nric = f'{datetime.strftime(birthday,\"%y\")}#####'\n",
    "        nric = self.fake.numerify(nric)        \n",
    "        checksum = self.checksum(nric)\n",
    "        nric_full = 'T'+nric+checksum\n",
    "        return {'birthday': datetime.strftime(birthday, '%Y-%m-%d'), \"nric\": nric_full}\n",
    "\n",
    "    \n",
    "    def sg_nric_type_f(self, min_age=None, max_age=115):\n",
    "        \"\"\"\n",
    "        \"F\": \"Foreigners issued with long-term passes before 1 January 2000\", \n",
    "        \"\"\"\n",
    "        # Get birthday between \n",
    "        end_date = datetime(1999, 12, 31)\n",
    "        current = datetime.today()\n",
    "        difference = relativedelta(current, end_date)\n",
    "        \n",
    "        if not min_age:\n",
    "            min_age = difference.years        \n",
    "        elif min_age and (min_age < difference.years):\n",
    "            print(f'Minimum age for F type NRIC is {difference.years}.')\n",
    "            min_age = difference.years\n",
    "\n",
    "        if min_age > max_age:\n",
    "            return None\n",
    "\n",
    "        birthday = self.fake.date_of_birth(tzinfo=None, minimum_age=min_age, maximum_age=max_age)\n",
    "\n",
    "        nric = self.fake.numerify('#######')\n",
    "        checksum = self.checksum(nric)\n",
    "        nric_full = 'F'+nric+checksum\n",
    "        return {'birthday': datetime.strftime(birthday, '%Y-%m-%d'), \"nric\": nric_full}\n",
    "        \n",
    "    \n",
    "    def sg_nric_type_g(self, min_age=None, max_age=None):\n",
    "        \"\"\"\n",
    "        \"G\": \"Foreigners issued with long-term passes from 1 January 2000 to 31 December 2021\",\n",
    "        \"\"\"\n",
    "        start_date = datetime(2000,1,1)\n",
    "        end_date = datetime(2021,12,31)\n",
    "        current = datetime.today()\n",
    "        diff_max = relativedelta(current, start_date)\n",
    "        diff_min = relativedelta(current, end_date)\n",
    "        \n",
    "        if not min_age or (min_age < 0):\n",
    "            min_age = diff_min.years\n",
    "        elif min_age and (min_age < diff_min.years):\n",
    "            print(f'Minimum age for G type NRIC is {diff_min.years}.')\n",
    "            min_age = diff_min.years\n",
    "\n",
    "        if min_age > max_age:\n",
    "            return None\n",
    "\n",
    "        if not max_age:\n",
    "            max_age = diff_max.years\n",
    "        elif max_age and (max_age > diff_max.years):\n",
    "            print(f'Maximum age for G type NRIC is {diff_max.years}.')\n",
    "            max_age = diff_max.years\n",
    "\n",
    "        birthday = self.fake.date_of_birth(tzinfo=None, minimum_age=min_age, maximum_age=max_age)\n",
    "\n",
    "        nric = self.fake.numerify('#######')\n",
    "        checksum = self.checksum(nric)\n",
    "        nric_full = 'G'+nric+checksum\n",
    "        return {'birthday': datetime.strftime(birthday, '%Y-%m-%d'), \"nric\": nric_full}\n",
    "\n",
    "    \n",
    "    def sg_nric_type_m(self, min_age=None, max_age=115):\n",
    "        \"\"\"\n",
    "        \"M\": \"Foreigners issued with long-term passes on or after 1 January 2022\"\n",
    "        \"\"\"\n",
    "        start_date = datetime(2022,1,1)\n",
    "        current = datetime.today()\n",
    "        difference = relativedelta(current, start_date)\n",
    "        \n",
    "        if not min_age or (min_age < 0):\n",
    "            min_age = 0\n",
    "        \n",
    "        if not max_age:\n",
    "            max_age = difference.years\n",
    "        elif max_age and (max_age > difference.years):\n",
    "            print(f'Maximum age for T type NRIC is {difference.years}.')\n",
    "            max_age = difference.years\n",
    "\n",
    "        if min_age > max_age:\n",
    "            return None\n",
    "\n",
    "        birthday = self.fake.date_of_birth(tzinfo=None, minimum_age=min_age, maximum_age=max_age)\n",
    "\n",
    "        nric = f'#######'\n",
    "        nric = self.fake.numerify(nric)        \n",
    "        checksum = self.checksum(nric)\n",
    "        nric_full = 'M'+nric+checksum\n",
    "        return {'birthday': datetime.strftime(birthday, '%Y-%m-%d'), \"nric\": nric_full}\n",
    "\n",
    "    \n",
    "    def sg_nric(self, categories=['S', 'T', 'F', 'G', 'M'], count=5, min_age=0, max_age=115):\n",
    "        \"\"\"\n",
    "        Return fake SG NRIC number.\n",
    "        \"\"\"\n",
    "        result = []\n",
    "        while len(result) < count:\n",
    "            category = self.fake.random_element(elements=categories)\n",
    "            method_name = f'sg_nric_type_{category.lower()}'\n",
    "            # Make sure object has the function \n",
    "            if not hasattr(self, method_name):\n",
    "                print(f'Invalid attribute name {method_name} for object {self}')\n",
    "                continue\n",
    "\n",
    "            method_to_call = getattr(self, method_name)\n",
    "            # Make sure the attribute is callable\n",
    "            if not callable(method_to_call):\n",
    "                print(f'Invalid function {method_to_call} for object {self}')\n",
    "                continue\n",
    "\n",
    "            nric = method_to_call(min_age=min_age, max_age=max_age)\n",
    "            if nric:\n",
    "                result.append(nric)\n",
    "        \n",
    "        return result"
   ]
  },
  {
   "cell_type": "markdown",
   "id": "383ea99f",
   "metadata": {},
   "source": [
    "### Test"
   ]
  },
  {
   "cell_type": "code",
   "execution_count": 98,
   "id": "765bf953",
   "metadata": {},
   "outputs": [
    {
     "name": "stdout",
     "output_type": "stream",
     "text": [
      "Maximum age for T type NRIC is 0.\n",
      "Maximum age for T type NRIC is 21.\n",
      "Maximum age for T type NRIC is 21.\n"
     ]
    },
    {
     "data": {
      "text/plain": [
       "[{'birthday': '2021-03-28', 'nric': 'M7577745J'},\n",
       " {'birthday': '2012-10-10', 'nric': 'T1264033A'},\n",
       " {'birthday': '2005-03-19', 'nric': 'T0571172Z'},\n",
       " {'birthday': '1939-11-25', 'nric': 'S2992344B'},\n",
       " {'birthday': '1953-03-04', 'nric': 'S1354649E'}]"
      ]
     },
     "execution_count": 98,
     "metadata": {},
     "output_type": "execute_result"
    }
   ],
   "source": [
    "fake = Faker()\n",
    "fake.add_provider(SgNricProvider)\n",
    "fake.sg_nric()"
   ]
  },
  {
   "cell_type": "markdown",
   "id": "5c2cc018",
   "metadata": {},
   "source": [
    "## Community Provider - SG Address\n",
    "\n",
    "Use data from kaggle https://www.kaggle.com/mylee2009/singapore-postal-code-mapper"
   ]
  },
  {
   "cell_type": "code",
   "execution_count": 22,
   "id": "0a12034a",
   "metadata": {},
   "outputs": [
    {
     "data": {
      "text/plain": [
       "[4346, 1378, 13460, 881, 14626, 21699, 21256, 20922, 15831, 22978]"
      ]
     },
     "execution_count": 22,
     "metadata": {},
     "output_type": "execute_result"
    }
   ],
   "source": [
    "random.sample(range(1,row_total), count)"
   ]
  },
  {
   "cell_type": "code",
   "execution_count": 40,
   "id": "38b10b09",
   "metadata": {},
   "outputs": [
    {
     "name": "stdout",
     "output_type": "stream",
     "text": [
      "{'postal': '648165', 'latitude': '1.354618893', 'longtitude': '103.7093813', 'blk_no': '10', 'road_name': 'BULIM AVENUE'}\n",
      "{'postal': '629523', 'latitude': '1.310227558', 'longtitude': '103.6660628', 'blk_no': '10', 'road_name': 'GUL CRESCENT'}\n",
      "{'postal': '638377', 'latitude': '1.33555153', 'longtitude': '103.6445896', 'blk_no': '10', 'road_name': 'TUAS WEST ROAD'}\n",
      "{'postal': '823105', 'latitude': '1.397672035', 'longtitude': '103.9055988', 'blk_no': '105C', 'road_name': 'EDGEFIELD PLAINS'}\n",
      "{'postal': '98144', 'latitude': '1.238961766', 'longtitude': '103.833709', 'blk_no': '106', 'road_name': 'COVE DRIVE'}\n",
      "{'postal': '327953', 'latitude': '1.325827815', 'longtitude': '103.8642351', 'blk_no': '10A', 'road_name': \"SAINT MICHAEL'S ROAD\"}\n",
      "{'postal': '487511', 'latitude': '1.337277524', 'longtitude': '103.9532552', 'blk_no': '11', 'road_name': 'SEA BREEZE GROVE'}\n",
      "{'postal': '266661', 'latitude': '1.328234457', 'longtitude': '103.7995336', 'blk_no': '11', 'road_name': 'SECOND AVENUE'}\n",
      "{'postal': '266661', 'latitude': '1.328234457', 'longtitude': '103.7995336', 'blk_no': '11', 'road_name': 'SECOND AVENUE'}\n",
      "{'postal': '151121', 'latitude': '1.283084318', 'longtitude': '103.8228049', 'blk_no': '121', 'road_name': 'BUKIT MERAH VIEW'}\n"
     ]
    }
   ],
   "source": [
    "from pathlib import Path\n",
    "import csv\n",
    "import random\n",
    "\n",
    "filename = 'sg_zipcode_mapper.csv'\n",
    "cur_path = Path.cwd().joinpath(filename)\n",
    "cur_path.resolve()\n",
    "\n",
    "count = 10\n",
    "lines = []\n",
    "\n",
    "with open(cur_path) as f:\n",
    "    # Find total number of rows\n",
    "    row_total = sum(1 for line in f)\n",
    "    # Generate random line number\n",
    "    chosen = sorted(random.sample(range(1,row_total), count))\n",
    "    \n",
    "    f.seek(0)\n",
    "    header = f.readline().strip().split(',')\n",
    "        \n",
    "    for offset in chosen:\n",
    "        f.seek(offset)\n",
    "        f.readline()\n",
    "        line = f.readline().strip()\n",
    "        lines.append(line.split(','))\n",
    "\n",
    "result = []\n",
    "for line in lines:\n",
    "    j = zip(header,line)\n",
    "    obj = {k: v for k, v in j}\n",
    "    print(obj)\n"
   ]
  },
  {
   "cell_type": "markdown",
   "id": "eea8242e",
   "metadata": {},
   "source": [
    "### Provider"
   ]
  },
  {
   "cell_type": "code",
   "execution_count": 1,
   "id": "9180fed6",
   "metadata": {},
   "outputs": [],
   "source": [
    "from pathlib import Path\n",
    "import csv\n",
    "import random\n",
    "from faker.providers import BaseProvider\n",
    "from faker import Faker\n",
    "\n",
    "class SgAddressProvider(BaseProvider):\n",
    "    \n",
    "    def __init__(self, generator):\n",
    "        super().__init__(generator)\n",
    "        self.data_file = 'sg_addresses.csv'\n",
    "    \n",
    "    \n",
    "    def sg_address(self, count: int = 5):\n",
    "        cur_path = Path.cwd().joinpath(self.data_file)\n",
    "        cur_path.resolve()\n",
    "        lines = []\n",
    "\n",
    "        with open(cur_path) as f:\n",
    "            # Find total number of rows\n",
    "            row_total = sum(1 for line in f)\n",
    "            # Generate random line number\n",
    "            chosen = sorted(random.sample(range(1,row_total), count))\n",
    "\n",
    "            f.seek(0)\n",
    "            header = f.readline().strip().split(',')\n",
    "\n",
    "            for offset in chosen:\n",
    "                f.seek(offset)\n",
    "                f.readline()\n",
    "                line = f.readline().strip()\n",
    "                lines.append(line.split(','))\n",
    "\n",
    "        result = []\n",
    "        for line in lines:\n",
    "            obj = {k: v for k, v in zip(header,line)}\n",
    "            result.append(obj)\n",
    "\n",
    "        return result"
   ]
  },
  {
   "cell_type": "markdown",
   "id": "4af06fa8",
   "metadata": {},
   "source": [
    "### Test"
   ]
  },
  {
   "cell_type": "code",
   "execution_count": 3,
   "id": "d9e961d9",
   "metadata": {},
   "outputs": [
    {
     "data": {
      "text/plain": [
       "[{'postal': '787916',\n",
       "  'latitude': '1.397338704',\n",
       "  'longtitude': '103.8204766',\n",
       "  'blk_no': '10',\n",
       "  'road_name': 'SPRINGLEAF VIEW'},\n",
       " {'postal': '821107',\n",
       "  'latitude': '1.397198794',\n",
       "  'longtitude': '103.9068258',\n",
       "  'blk_no': '107A',\n",
       "  'road_name': 'EDGEFIELD PLAINS'},\n",
       " {'postal': '548042',\n",
       "  'latitude': '1.360564746',\n",
       "  'longtitude': '103.8825666',\n",
       "  'blk_no': '10F',\n",
       "  'road_name': 'KOVAN ROAD'},\n",
       " {'postal': '339155',\n",
       "  'latitude': '1.315343054',\n",
       "  'longtitude': '103.8683213',\n",
       "  'blk_no': '11',\n",
       "  'road_name': 'KALLANG PLACE'},\n",
       " {'postal': '467109',\n",
       "  'latitude': '1.319583452',\n",
       "  'longtitude': '103.9406904',\n",
       "  'blk_no': '110',\n",
       "  'road_name': 'SENNETT AVENUE'}]"
      ]
     },
     "execution_count": 3,
     "metadata": {},
     "output_type": "execute_result"
    }
   ],
   "source": [
    "fake = Faker()\n",
    "fake.add_provider(SgAddressProvider)\n",
    "\n",
    "fake.sg_address(5)"
   ]
  },
  {
   "cell_type": "markdown",
   "id": "3c1a8ca1",
   "metadata": {},
   "source": [
    "## Community Provider - SG Train Stations"
   ]
  },
  {
   "cell_type": "code",
   "execution_count": null,
   "id": "9875ea69",
   "metadata": {},
   "outputs": [],
   "source": []
  },
  {
   "cell_type": "markdown",
   "id": "d925aa30",
   "metadata": {},
   "source": [
    "## Community Provider - SG Phone"
   ]
  },
  {
   "cell_type": "code",
   "execution_count": null,
   "id": "8808a125",
   "metadata": {},
   "outputs": [],
   "source": []
  }
 ],
 "metadata": {
  "kernelspec": {
   "display_name": "Python 3",
   "language": "python",
   "name": "python3"
  },
  "language_info": {
   "codemirror_mode": {
    "name": "ipython",
    "version": 3
   },
   "file_extension": ".py",
   "mimetype": "text/x-python",
   "name": "python",
   "nbconvert_exporter": "python",
   "pygments_lexer": "ipython3",
   "version": "3.8.8"
  },
  "toc": {
   "base_numbering": 1,
   "nav_menu": {},
   "number_sections": true,
   "sideBar": true,
   "skip_h1_title": false,
   "title_cell": "Table of Contents",
   "title_sidebar": "Contents",
   "toc_cell": false,
   "toc_position": {},
   "toc_section_display": true,
   "toc_window_display": false
  }
 },
 "nbformat": 4,
 "nbformat_minor": 5
}
